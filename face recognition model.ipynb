{
 "cells": [
  {
   "cell_type": "code",
   "execution_count": 1,
   "metadata": {},
   "outputs": [
    {
     "name": "stdout",
     "output_type": "stream",
     "text": [
      "3.7.4 (default, Aug  9 2019, 18:34:13) [MSC v.1915 64 bit (AMD64)]\n"
     ]
    }
   ],
   "source": [
    "import  sys\n",
    "print(sys.version)"
   ]
  },
  {
   "cell_type": "code",
   "execution_count": 1,
   "metadata": {},
   "outputs": [
    {
     "name": "stdout",
     "output_type": "stream",
     "text": [
      "Package                Version\n",
      "---------------------- -------------------\n",
      "absl-py                0.9.0\n",
      "anaconda-client        1.7.2\n",
      "anaconda-navigator     1.9.12\n",
      "astor                  0.8.0\n",
      "attrs                  19.3.0\n",
      "backcall               0.2.0\n",
      "beautifulsoup4         4.9.1\n",
      "bleach                 3.1.5\n",
      "blinker                1.4\n",
      "Boruta                 0.3\n",
      "brotlipy               0.7.0\n",
      "cachetools             4.1.0\n",
      "certifi                2020.6.20\n",
      "cffi                   1.14.0\n",
      "chardet                3.0.4\n",
      "click                  7.1.2\n",
      "clyent                 1.2.2\n",
      "colorama               0.4.3\n",
      "conda                  4.8.3\n",
      "conda-build            3.17.6\n",
      "conda-package-handling 1.7.0\n",
      "conda-verify           3.1.1\n",
      "cryptography           2.9.2\n",
      "decorator              4.4.2\n",
      "defusedxml             0.6.0\n",
      "entrypoints            0.3\n",
      "filelock               3.0.12\n",
      "future                 0.18.2\n",
      "gast                   0.2.2\n",
      "glob2                  0.7\n",
      "google-auth            1.17.2\n",
      "google-auth-oauthlib   0.4.1\n",
      "google-pasta           0.2.0\n",
      "grpcio                 1.27.2\n",
      "h5py                   2.10.0\n",
      "idna                   2.10\n",
      "imageai                2.0.1\n",
      "imbalanced-learn       0.6.1\n",
      "imblearn               0.0\n",
      "import-ipynb           0.1.3\n",
      "importlib-metadata     1.7.0\n",
      "ipykernel              5.3.2\n",
      "ipython                7.16.1\n",
      "ipython-genutils       0.2.0\n",
      "ipywidgets             7.5.1\n",
      "jedi                   0.17.1\n",
      "Jinja2                 2.11.2\n",
      "joblib                 0.14.1\n",
      "json5                  0.9.5\n",
      "jsonschema             3.2.0\n",
      "jupyter-client         6.1.6\n",
      "jupyter-core           4.6.3\n",
      "jupyterlab             2.1.5\n",
      "jupyterlab-server      1.2.0\n",
      "Keras                  2.4.3\n",
      "Keras-Applications     1.0.8\n",
      "Keras-Preprocessing    1.1.0\n",
      "keras-resnet           0.2.0\n",
      "libarchive-c           2.9\n",
      "Markdown               3.1.1\n",
      "MarkupSafe             1.1.1\n",
      "menuinst               1.4.16\n",
      "mistune                0.8.4\n",
      "mkl-fft                1.1.0\n",
      "mkl-random             1.1.1\n",
      "mkl-service            2.3.0\n",
      "mysql-connector-python 8.0.13\n",
      "navigator-updater      0.2.1\n",
      "nbconvert              5.6.1\n",
      "nbformat               5.0.7\n",
      "notebook               6.0.3\n",
      "numpy                  1.18.5\n",
      "oauthlib               3.1.0\n",
      "olefile                0.46\n",
      "opencv-contrib-python  4.3.0.36\n",
      "opencv-python          4.2.0.34\n",
      "opt-einsum             3.1.0Note: you may need to restart the kernel to use updated packages.\n",
      "\n",
      "packaging              20.4\n",
      "pandocfilters          1.4.2\n",
      "parso                  0.7.0\n",
      "pickleshare            0.7.5\n",
      "Pillow                 5.4.1\n",
      "pip                    20.1.1\n",
      "pkginfo                1.5.0.1\n",
      "plotly                 4.8.1\n",
      "prometheus-client      0.8.0\n",
      "prompt-toolkit         3.0.5\n",
      "protobuf               3.12.3\n",
      "psutil                 5.7.0\n",
      "pyasn1                 0.4.8\n",
      "pyasn1-modules         0.2.7\n",
      "pycosat                0.6.3\n",
      "pycparser              2.20\n",
      "Pygments               2.6.1\n",
      "PyJWT                  1.7.1\n",
      "pyOpenSSL              19.1.0\n",
      "pyparsing              2.4.7\n",
      "pyreadline             2.1\n",
      "pyrsistent             0.16.0\n",
      "PySocks                1.7.1\n",
      "python-dateutil        2.8.1\n",
      "pytz                   2020.1\n",
      "pywin32                227\n",
      "pywinpty               0.5.7\n",
      "PyYAML                 5.3.1\n",
      "pyzmq                  19.0.1\n",
      "QtPy                   1.9.0\n",
      "requests               2.24.0\n",
      "requests-oauthlib      1.3.0\n",
      "retrying               1.3.3\n",
      "rsa                    4.0\n",
      "ruamel-yaml            0.15.87\n",
      "scikit-learn           0.22.1\n",
      "scipy                  1.5.0\n",
      "Send2Trash             1.5.0\n",
      "setuptools             49.2.0.post20200714\n",
      "six                    1.15.0\n",
      "soupsieve              2.0.1\n",
      "tensorboard            2.2.1\n",
      "tensorboard-plugin-wit 1.6.0\n",
      "tensorflow             2.1.0\n",
      "tensorflow-estimator   2.1.0\n",
      "termcolor              1.1.0\n",
      "terminado              0.8.3\n",
      "testpath               0.4.4\n",
      "tornado                6.0.4\n",
      "tqdm                   4.47.0\n",
      "traitlets              4.3.3\n",
      "urllib3                1.25.9\n",
      "wcwidth                0.2.5\n",
      "webencodings           0.5.1\n",
      "Werkzeug               0.16.1\n",
      "wheel                  0.34.2\n",
      "widgetsnbextension     3.5.1\n",
      "win-inet-pton          1.1.0\n",
      "wincertstore           0.2\n",
      "wordcloud              1.7.0\n",
      "wrapt                  1.12.1\n",
      "xmltodict              0.12.0\n",
      "zipp                   3.1.0\n"
     ]
    }
   ],
   "source": [
    "pip list"
   ]
  },
  {
   "cell_type": "code",
   "execution_count": 1,
   "metadata": {},
   "outputs": [
    {
     "name": "stderr",
     "output_type": "stream",
     "text": [
      "Using TensorFlow backend.\n"
     ]
    }
   ],
   "source": [
    "import tensorflow as tf\n",
    "from keras.layers import Input, Lambda, Dense, Flatten\n",
    "from keras.models import Model\n",
    "from keras.applications.vgg16 import VGG16\n",
    "from keras.applications.vgg16 import preprocess_input\n",
    "from keras.preprocessing import image\n",
    "from keras.preprocessing.image import ImageDataGenerator\n",
    "from keras.models import Sequential\n",
    "from glob import glob\n",
    "import matplotlib.pyplot as plt \n"
   ]
  },
  {
   "cell_type": "code",
   "execution_count": 2,
   "metadata": {},
   "outputs": [],
   "source": [
    "# re-size all the images to this\n",
    "IMAGE_SIZE = [224, 224]\n",
    "\n",
    "train_data = \"C:/Users/hp/datasets/Train\"\n",
    "valid_data = \"C:/Users/hp/datasets/Validate\"\n"
   ]
  },
  {
   "cell_type": "code",
   "execution_count": 3,
   "metadata": {},
   "outputs": [],
   "source": [
    "vgg = VGG16(input_shape=IMAGE_SIZE + [3], weights='imagenet', include_top=False)\n",
    "  "
   ]
  },
  {
   "cell_type": "code",
   "execution_count": 4,
   "metadata": {},
   "outputs": [],
   "source": [
    "for layer in vgg.layers:\n",
    "  layer.trainable = False\n"
   ]
  },
  {
   "cell_type": "code",
   "execution_count": 5,
   "metadata": {},
   "outputs": [
    {
     "data": {
      "text/plain": [
       "['C:/Users/hp/datasets/Train\\\\Pooja_train',\n",
       " 'C:/Users/hp/datasets/Train\\\\Prajakta_train',\n",
       " 'C:/Users/hp/datasets/Train\\\\Vidya_train']"
      ]
     },
     "execution_count": 5,
     "metadata": {},
     "output_type": "execute_result"
    }
   ],
   "source": [
    "folders = glob('C:/Users/hp/datasets/Train/*')\n",
    "folders\n"
   ]
  },
  {
   "cell_type": "code",
   "execution_count": 6,
   "metadata": {},
   "outputs": [],
   "source": [
    "x = Flatten()(vgg.output)"
   ]
  },
  {
   "cell_type": "code",
   "execution_count": 7,
   "metadata": {},
   "outputs": [],
   "source": [
    "prediction = Dense(len(folders), activation='softmax')(x)"
   ]
  },
  {
   "cell_type": "code",
   "execution_count": 8,
   "metadata": {},
   "outputs": [],
   "source": [
    "model = Model(inputs=vgg.input, outputs=prediction)"
   ]
  },
  {
   "cell_type": "code",
   "execution_count": 9,
   "metadata": {},
   "outputs": [
    {
     "name": "stdout",
     "output_type": "stream",
     "text": [
      "Model: \"model_1\"\n",
      "_________________________________________________________________\n",
      "Layer (type)                 Output Shape              Param #   \n",
      "=================================================================\n",
      "input_1 (InputLayer)         (None, 224, 224, 3)       0         \n",
      "_________________________________________________________________\n",
      "block1_conv1 (Conv2D)        (None, 224, 224, 64)      1792      \n",
      "_________________________________________________________________\n",
      "block1_conv2 (Conv2D)        (None, 224, 224, 64)      36928     \n",
      "_________________________________________________________________\n",
      "block1_pool (MaxPooling2D)   (None, 112, 112, 64)      0         \n",
      "_________________________________________________________________\n",
      "block2_conv1 (Conv2D)        (None, 112, 112, 128)     73856     \n",
      "_________________________________________________________________\n",
      "block2_conv2 (Conv2D)        (None, 112, 112, 128)     147584    \n",
      "_________________________________________________________________\n",
      "block2_pool (MaxPooling2D)   (None, 56, 56, 128)       0         \n",
      "_________________________________________________________________\n",
      "block3_conv1 (Conv2D)        (None, 56, 56, 256)       295168    \n",
      "_________________________________________________________________\n",
      "block3_conv2 (Conv2D)        (None, 56, 56, 256)       590080    \n",
      "_________________________________________________________________\n",
      "block3_conv3 (Conv2D)        (None, 56, 56, 256)       590080    \n",
      "_________________________________________________________________\n",
      "block3_pool (MaxPooling2D)   (None, 28, 28, 256)       0         \n",
      "_________________________________________________________________\n",
      "block4_conv1 (Conv2D)        (None, 28, 28, 512)       1180160   \n",
      "_________________________________________________________________\n",
      "block4_conv2 (Conv2D)        (None, 28, 28, 512)       2359808   \n",
      "_________________________________________________________________\n",
      "block4_conv3 (Conv2D)        (None, 28, 28, 512)       2359808   \n",
      "_________________________________________________________________\n",
      "block4_pool (MaxPooling2D)   (None, 14, 14, 512)       0         \n",
      "_________________________________________________________________\n",
      "block5_conv1 (Conv2D)        (None, 14, 14, 512)       2359808   \n",
      "_________________________________________________________________\n",
      "block5_conv2 (Conv2D)        (None, 14, 14, 512)       2359808   \n",
      "_________________________________________________________________\n",
      "block5_conv3 (Conv2D)        (None, 14, 14, 512)       2359808   \n",
      "_________________________________________________________________\n",
      "block5_pool (MaxPooling2D)   (None, 7, 7, 512)         0         \n",
      "_________________________________________________________________\n",
      "flatten_1 (Flatten)          (None, 25088)             0         \n",
      "_________________________________________________________________\n",
      "dense_1 (Dense)              (None, 3)                 75267     \n",
      "=================================================================\n",
      "Total params: 14,789,955\n",
      "Trainable params: 75,267\n",
      "Non-trainable params: 14,714,688\n",
      "_________________________________________________________________\n"
     ]
    }
   ],
   "source": [
    "model.summary()"
   ]
  },
  {
   "cell_type": "code",
   "execution_count": 10,
   "metadata": {},
   "outputs": [],
   "source": [
    "model.compile(\n",
    "  loss='categorical_crossentropy',\n",
    "  optimizer='adam',\n",
    "  metrics=['accuracy']\n",
    ")\n",
    "\n"
   ]
  },
  {
   "cell_type": "code",
   "execution_count": 11,
   "metadata": {},
   "outputs": [],
   "source": [
    "from keras.preprocessing.image import ImageDataGenerator\n",
    "\n",
    "train_datagen = ImageDataGenerator(rescale = 1./255,\n",
    "                                   shear_range = 0.2,\n",
    "                                   zoom_range = 0.2,\n",
    "                                   horizontal_flip = True)\n",
    "\n",
    "test_datagen = ImageDataGenerator(rescale = 1./255)\n"
   ]
  },
  {
   "cell_type": "code",
   "execution_count": 12,
   "metadata": {},
   "outputs": [
    {
     "name": "stdout",
     "output_type": "stream",
     "text": [
      "Found 235 images belonging to 3 classes.\n",
      "Found 65 images belonging to 3 classes.\n"
     ]
    }
   ],
   "source": [
    "\n",
    "training_set = train_datagen.flow_from_directory(\"C:/Users/hp/datasets/Train\",\n",
    "                                                 target_size = (224, 224),\n",
    "                                                 batch_size = 32,\n",
    "                                                 class_mode = 'categorical')\n",
    "\n",
    "test_set = test_datagen.flow_from_directory(\"C:/Users/hp/datasets/Validate\",\n",
    "                                            target_size = (224, 224),\n",
    "                                            batch_size = 32,\n",
    "                                            class_mode = 'categorical')\n"
   ]
  },
  {
   "cell_type": "code",
   "execution_count": 13,
   "metadata": {},
   "outputs": [
    {
     "name": "stdout",
     "output_type": "stream",
     "text": [
      "Epoch 1/5\n",
      "8/8 [==============================] - 357s 45s/step - loss: 0.9166 - accuracy: 0.6851 - val_loss: 0.0769 - val_accuracy: 1.0000\n",
      "Epoch 2/5\n",
      "8/8 [==============================] - 228s 29s/step - loss: 0.1334 - accuracy: 0.9787 - val_loss: 0.0409 - val_accuracy: 1.0000\n",
      "Epoch 3/5\n",
      "8/8 [==============================] - 228s 29s/step - loss: 0.0362 - accuracy: 0.9957 - val_loss: 0.0149 - val_accuracy: 1.0000\n",
      "Epoch 4/5\n",
      "8/8 [==============================] - 234s 29s/step - loss: 0.0127 - accuracy: 0.9915 - val_loss: 0.0012 - val_accuracy: 1.0000\n",
      "Epoch 5/5\n",
      "8/8 [==============================] - 230s 29s/step - loss: 0.0091 - accuracy: 0.9957 - val_loss: 0.0064 - val_accuracy: 1.0000\n"
     ]
    }
   ],
   "source": [
    "r = model.fit_generator(\n",
    "  training_set,\n",
    "  validation_data=test_set,\n",
    "  epochs=5,\n",
    "  steps_per_epoch=len(training_set),\n",
    "  validation_steps=len(test_set)\n",
    ")"
   ]
  },
  {
   "cell_type": "code",
   "execution_count": 15,
   "metadata": {},
   "outputs": [],
   "source": [
    "import tensorflow as tf\n",
    "\n",
    "from keras.models import load_model\n",
    "\n",
    "model.save('model_vgg16.h5')\n"
   ]
  },
  {
   "cell_type": "code",
   "execution_count": null,
   "metadata": {},
   "outputs": [],
   "source": []
  }
 ],
 "metadata": {
  "kernelspec": {
   "display_name": "Python 3",
   "language": "python",
   "name": "python3"
  },
  "language_info": {
   "codemirror_mode": {
    "name": "ipython",
    "version": 3
   },
   "file_extension": ".py",
   "mimetype": "text/x-python",
   "name": "python",
   "nbconvert_exporter": "python",
   "pygments_lexer": "ipython3",
   "version": "3.7.4"
  }
 },
 "nbformat": 4,
 "nbformat_minor": 2
}
